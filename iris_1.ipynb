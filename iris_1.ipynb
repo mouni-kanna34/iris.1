{
  "cells": [
    {
      "cell_type": "code",
      "execution_count": 1,
      "metadata": {
        "colab": {
          "base_uri": "https://localhost:8080/",
          "height": 401
        },
        "id": "tOuI67odMmF4",
        "outputId": "b51cc3b5-095f-4a57-ac17-4ff875da8172"
      },
      "outputs": [
        {
          "data": {
            "text/html": [
              "<img src=\"https://editor.analyticsvidhya.com/uploads/51518iris%20img1.png\" width=\"850\"/>"
            ],
            "text/plain": [
              "<IPython.core.display.Image object>"
            ]
          },
          "execution_count": 1,
          "metadata": {},
          "output_type": "execute_result"
        }
      ],
      "source": [
        "from IPython.display import Image\n",
        "Image(url='https://editor.analyticsvidhya.com/uploads/51518iris%20img1.png', width=850)"
      ]
    },
    {
      "cell_type": "code",
      "execution_count": null,
      "metadata": {
        "id": "vC8izad-zSzW"
      },
      "outputs": [],
      "source": [
        "import numpy as np\n",
        "import pandas as pd\n",
        "import seaborn as sns\n",
        "import matplotlib.pyplot as plt\n",
        "%matplotlib inline"
      ]
    },
    {
      "cell_type": "code",
      "execution_count": null,
      "metadata": {
        "colab": {
          "base_uri": "https://localhost:8080/",
          "height": 206
        },
        "id": "kOsqTE7a0P00",
        "outputId": "4bc65d5f-c3bf-4425-cd99-4760c2386879"
      },
      "outputs": [],
      "source": [
        "iris = pd.read_csv('/Iris.csv')\n",
        "iris.head()"
      ]
    },
    {
      "cell_type": "code",
      "execution_count": null,
      "metadata": {
        "id": "H9NUwl8I0hjF"
      },
      "outputs": [],
      "source": [
        "iris= iris.rename(columns={'SepalLengthCm':'Sepal_Length',\n",
        "                           'SepalWidthCm':'Sepal_Width',\n",
        "                           'PetalLengthCm':'Petal_Length',\n",
        "                           'PetalWidthCm':'Petal_Width'})"
      ]
    },
    {
      "cell_type": "code",
      "execution_count": null,
      "metadata": {
        "colab": {
          "base_uri": "https://localhost:8080/",
          "height": 206
        },
        "id": "vBxvVMtJ0qzt",
        "outputId": "5c1d2c77-4456-4d41-a8ac-8ef44ddf6e91"
      },
      "outputs": [],
      "source": [
        "iris.head()"
      ]
    },
    {
      "cell_type": "code",
      "execution_count": null,
      "metadata": {
        "colab": {
          "base_uri": "https://localhost:8080/",
          "height": 272
        },
        "id": "c4xwrmi00s2l",
        "outputId": "799e85b7-d34c-45d2-82a9-9e67b89c4b24"
      },
      "outputs": [],
      "source": [
        "iris.isnull().sum()"
      ]
    },
    {
      "cell_type": "code",
      "execution_count": null,
      "metadata": {
        "colab": {
          "base_uri": "https://localhost:8080/",
          "height": 300
        },
        "id": "IxjK6t8603VG",
        "outputId": "a2431e2c-47f7-4ca7-8974-40a416956cda"
      },
      "outputs": [],
      "source": [
        "iris ['Species'].value_counts()\n",
        "iris.describe()"
      ]
    },
    {
      "cell_type": "code",
      "execution_count": null,
      "metadata": {
        "colab": {
          "base_uri": "https://localhost:8080/",
          "height": 625
        },
        "id": "ElxMwtQv1GJN",
        "outputId": "37602da5-8643-478e-a2c7-3564a0496646"
      },
      "outputs": [],
      "source": [
        "sns.FacetGrid(iris, hue=\"Species\",height=6).map(plt.scatter,\"Petal_Length\",\"Sepal_Width\").add_legend()\n"
      ]
    },
    {
      "cell_type": "code",
      "execution_count": null,
      "metadata": {
        "colab": {
          "base_uri": "https://localhost:8080/",
          "height": 1000
        },
        "id": "Ann9P-sm1TZM",
        "outputId": "84cb03f8-b092-4d0d-8079-543ba6959753"
      },
      "outputs": [],
      "source": [
        "sns.pairplot(iris[['Sepal_Length','Sepal_Width','Petal_Length','Petal_Width','Species']], hue=\"Species\",diag_kind='kde')"
      ]
    },
    {
      "cell_type": "code",
      "execution_count": null,
      "metadata": {
        "id": "xgzxBbBD1YkC"
      },
      "outputs": [],
      "source": [
        "data=iris.values\n",
        "X=data[:,0:4]\n",
        "Y=data[:,5]\n"
      ]
    },
    {
      "cell_type": "code",
      "execution_count": null,
      "metadata": {
        "colab": {
          "base_uri": "https://localhost:8080/"
        },
        "id": "t7UkPp_I1-m9",
        "outputId": "b6aa4799-c112-4ab3-cbf9-9ef51f318134"
      },
      "outputs": [],
      "source": [
        "print(X.shape)\n",
        "print(X)"
      ]
    },
    {
      "cell_type": "code",
      "execution_count": null,
      "metadata": {
        "colab": {
          "base_uri": "https://localhost:8080/"
        },
        "id": "VLlEemAN2DY2",
        "outputId": "afe67bc3-7b92-4b50-f650-cb548b1ef411"
      },
      "outputs": [],
      "source": [
        "print(Y.shape)\n",
        "print(Y)"
      ]
    },
    {
      "cell_type": "code",
      "execution_count": null,
      "metadata": {
        "id": "mpuvu2Ch2R8h"
      },
      "outputs": [],
      "source": [
        "from sklearn.model_selection import train_test_split\n",
        "X_train, X_test, y_train, y_test= train_test_split(X,Y, test_size=0.2)"
      ]
    },
    {
      "cell_type": "code",
      "execution_count": null,
      "metadata": {
        "colab": {
          "base_uri": "https://localhost:8080/"
        },
        "id": "BA7N0JNr2YmZ",
        "outputId": "8f85a454-5a47-4de5-caa6-381f1c49c7c0"
      },
      "outputs": [],
      "source": [
        "print(X_train.shape)\n",
        "print(X_train)"
      ]
    },
    {
      "cell_type": "code",
      "execution_count": null,
      "metadata": {
        "colab": {
          "base_uri": "https://localhost:8080/"
        },
        "id": "LY49XBkr2cXP",
        "outputId": "85576362-818f-4441-a346-53efc55beff7"
      },
      "outputs": [],
      "source": [
        "print(y_test.shape)\n",
        "print(y_test)\n"
      ]
    },
    {
      "cell_type": "code",
      "execution_count": null,
      "metadata": {
        "colab": {
          "base_uri": "https://localhost:8080/"
        },
        "id": "zZtb6j4i2f4R",
        "outputId": "c54f262d-72b9-4452-d51e-cc75666a5894"
      },
      "outputs": [],
      "source": [
        "print(X_test.shape)\n",
        "print(X_test)"
      ]
    },
    {
      "cell_type": "code",
      "execution_count": null,
      "metadata": {
        "colab": {
          "base_uri": "https://localhost:8080/"
        },
        "id": "j1fic5MX2i-R",
        "outputId": "c987ac37-336a-408e-c665-55530954bf50"
      },
      "outputs": [],
      "source": [
        "print(y_train.shape)\n",
        "print(y_train)"
      ]
    },
    {
      "cell_type": "code",
      "execution_count": null,
      "metadata": {
        "colab": {
          "base_uri": "https://localhost:8080/",
          "height": 80
        },
        "id": "WR1j2JNl2l0-",
        "outputId": "24ee2a77-2f03-46dd-c245-cc9fa89e82dd"
      },
      "outputs": [],
      "source": [
        "from sklearn.svm import SVC\n",
        "\n",
        "model_svc=SVC()\n",
        "model_svc.fit(X_train,y_train)"
      ]
    },
    {
      "cell_type": "code",
      "execution_count": null,
      "metadata": {
        "colab": {
          "base_uri": "https://localhost:8080/"
        },
        "id": "rcHKHy0k21T1",
        "outputId": "f80147c6-1d8f-4813-f32c-6ca6a139a155"
      },
      "outputs": [],
      "source": [
        "prediction1 = model_svc.predict(X_test)\n",
        "\n",
        "\n",
        "from sklearn.metrics import accuracy_score\n",
        "print(accuracy_score(y_test, prediction1))"
      ]
    },
    {
      "cell_type": "code",
      "execution_count": null,
      "metadata": {
        "id": "JSkoWAF926Ps"
      },
      "outputs": [],
      "source": [
        "flower_mapping = {'Iris-setosa':0,'Iris-versicolor':1,'Iris-virginica':2}\n",
        "iris['Species']=iris['Species'].map(flower_mapping)"
      ]
    },
    {
      "cell_type": "code",
      "execution_count": null,
      "metadata": {
        "colab": {
          "base_uri": "https://localhost:8080/",
          "height": 206
        },
        "id": "reQdFwh82-i2",
        "outputId": "a13e5fff-68e4-44ab-8f7d-6c0ae5fd99e3"
      },
      "outputs": [],
      "source": [
        "iris.head()\n",
        "\n",
        "\n"
      ]
    },
    {
      "cell_type": "code",
      "execution_count": null,
      "metadata": {
        "colab": {
          "base_uri": "https://localhost:8080/",
          "height": 206
        },
        "id": "Blelrr-Q3DR_",
        "outputId": "41180215-e091-45f3-dff9-627a27c995cb"
      },
      "outputs": [],
      "source": [
        "\n",
        "iris.tail()"
      ]
    },
    {
      "cell_type": "code",
      "execution_count": null,
      "metadata": {
        "id": "FsZZaFJy3GzN"
      },
      "outputs": [],
      "source": [
        "X=iris [['Sepal_Length','Sepal_Width','Petal_Length','Petal_Width']].values\n",
        "y= iris[['Species']].values"
      ]
    },
    {
      "cell_type": "code",
      "execution_count": null,
      "metadata": {
        "colab": {
          "base_uri": "https://localhost:8080/",
          "height": 136
        },
        "id": "xK1uJl9e3J0W",
        "outputId": "96b51601-a232-4c3e-cd68-c399d6ec1136"
      },
      "outputs": [],
      "source": [
        "from sklearn.linear_model import LogisticRegression\n",
        "model= LogisticRegression()\n",
        "model.fit(X,y)"
      ]
    },
    {
      "cell_type": "code",
      "execution_count": null,
      "metadata": {
        "colab": {
          "base_uri": "https://localhost:8080/"
        },
        "id": "jnrznzJG3MrJ",
        "outputId": "29b06d1a-4bbc-469d-c51c-56586dab9768"
      },
      "outputs": [],
      "source": [
        "model.score(X,y)"
      ]
    },
    {
      "cell_type": "code",
      "execution_count": null,
      "metadata": {
        "colab": {
          "base_uri": "https://localhost:8080/"
        },
        "id": "7lfc79073R9l",
        "outputId": "2a5c601d-0d67-4c69-bf1c-13d0b0c1a4a8"
      },
      "outputs": [],
      "source": [
        "expected = y\n",
        "predicted = model.predict(X)\n",
        "predicted"
      ]
    },
    {
      "cell_type": "code",
      "execution_count": null,
      "metadata": {
        "id": "KKWHF6t23PFJ"
      },
      "outputs": [],
      "source": [
        "from sklearn import metrics"
      ]
    },
    {
      "cell_type": "code",
      "execution_count": null,
      "metadata": {
        "colab": {
          "base_uri": "https://localhost:8080/"
        },
        "id": "jwZoONaK3W3W",
        "outputId": "765d7937-4508-461f-a064-fc254362faec"
      },
      "outputs": [],
      "source": [
        "print(metrics.classification_report(expected, predicted))\n",
        "\n"
      ]
    },
    {
      "cell_type": "code",
      "execution_count": null,
      "metadata": {
        "colab": {
          "base_uri": "https://localhost:8080/",
          "height": 80
        },
        "id": "grEQoqqh3xxj",
        "outputId": "9272b011-9fe5-4c95-a309-88b2535200a4"
      },
      "outputs": [],
      "source": [
        "from sklearn.tree import DecisionTreeClassifier\n",
        "model_DTC = DecisionTreeClassifier()\n",
        "model_DTC.fit(X_train, y_train)"
      ]
    },
    {
      "cell_type": "code",
      "execution_count": null,
      "metadata": {
        "colab": {
          "base_uri": "https://localhost:8080/"
        },
        "id": "y4YqxhDG4Crs",
        "outputId": "0aecd927-57e2-4b14-9991-254ca681974c"
      },
      "outputs": [],
      "source": [
        "prediction3= model_svc.predict(X_test)\n",
        "\n",
        "\n",
        "from sklearn.metrics import accuracy_score\n",
        "print(accuracy_score(y_test, prediction3))"
      ]
    },
    {
      "cell_type": "code",
      "execution_count": null,
      "metadata": {
        "colab": {
          "base_uri": "https://localhost:8080/"
        },
        "id": "QxEFMcCf4F_q",
        "outputId": "1436a894-fdc1-435a-fc4b-17fe0f527fb3"
      },
      "outputs": [],
      "source": [
        "\n",
        "\n",
        "X_new = np.array([[3, 2, 1, 0.2], [4.9, 2.2, 3.8, 1.1], [5.3, 2.5, 4.6, 1.9]])\n",
        "\n",
        "predicted_sizes = model.predict(X_new)\n",
        "\n",
        "\n",
        "print(predicted_sizes)\n"
      ]
    },
    {
      "cell_type": "code",
      "execution_count": null,
      "metadata": {
        "id": "4mehbFsX46Q5"
      },
      "outputs": [],
      "source": []
    }
  ],
  "metadata": {
    "colab": {
      "provenance": []
    },
    "kernelspec": {
      "display_name": "Python 3",
      "name": "python3"
    },
    "language_info": {
      "codemirror_mode": {
        "name": "ipython",
        "version": 3
      },
      "file_extension": ".py",
      "mimetype": "text/x-python",
      "name": "python",
      "nbconvert_exporter": "python",
      "pygments_lexer": "ipython3",
      "version": "3.12.5"
    }
  },
  "nbformat": 4,
  "nbformat_minor": 0
}
