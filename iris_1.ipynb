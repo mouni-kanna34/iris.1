{
  "cells": [
    {
      "cell_type": "markdown",
      "metadata": {
        "id": "view-in-github",
        "colab_type": "text"
      },
      "source": [
        "<a href=\"https://colab.research.google.com/github/mouni-kanna34/iris.1/blob/main/iris_1.ipynb\" target=\"_parent\"><img src=\"https://colab.research.google.com/assets/colab-badge.svg\" alt=\"Open In Colab\"/></a>"
      ]
    },
    {
      "cell_type": "code",
      "execution_count": null,
      "metadata": {
        "colab": {
          "base_uri": "https://localhost:8080/",
          "height": 401
        },
        "id": "tOuI67odMmF4",
        "outputId": "b51cc3b5-095f-4a57-ac17-4ff875da8172"
      },
      "outputs": [
        {
          "data": {
            "text/html": [
              "<img src=\"https://editor.analyticsvidhya.com/uploads/51518iris%20img1.png\" width=\"850\"/>"
            ],
            "text/plain": [
              "<IPython.core.display.Image object>"
            ]
          },
          "execution_count": 1,
          "metadata": {},
          "output_type": "execute_result"
        }
      ],
      "source": [
        "from IPython.display import Image\n",
        "Image(url='https://editor.analyticsvidhya.com/uploads/51518iris%20img1.png', width=850)"
      ]
    },
    {
      "cell_type": "code",
      "execution_count": null,
      "metadata": {
        "id": "vC8izad-zSzW"
      },
      "outputs": [],
      "source": [
        "import numpy as np\n",
        "import pandas as pd\n",
        "import seaborn as sns\n",
        "import matplotlib.pyplot as plt\n",
        "%matplotlib inline"
      ]
    },
    {
      "cell_type": "code",
      "execution_count": null,
      "metadata": {
        "id": "kOsqTE7a0P00"
      },
      "outputs": [],
      "source": [
        "iris = pd.read_csv('/Iris.csv')\n",
        "iris.head()"
      ]
    },
    {
      "cell_type": "code",
      "execution_count": null,
      "metadata": {
        "id": "H9NUwl8I0hjF"
      },
      "outputs": [],
      "source": [
        "iris= iris.rename(columns={'SepalLengthCm':'Sepal_Length',\n",
        "                           'SepalWidthCm':'Sepal_Width',\n",
        "                           'PetalLengthCm':'Petal_Length',\n",
        "                           'PetalWidthCm':'Petal_Width'})"
      ]
    },
    {
      "cell_type": "code",
      "execution_count": null,
      "metadata": {
        "id": "vBxvVMtJ0qzt"
      },
      "outputs": [],
      "source": [
        "iris.head()"
      ]
    },
    {
      "cell_type": "code",
      "execution_count": null,
      "metadata": {
        "id": "c4xwrmi00s2l"
      },
      "outputs": [],
      "source": [
        "iris.isnull().sum()"
      ]
    },
    {
      "cell_type": "code",
      "execution_count": null,
      "metadata": {
        "id": "IxjK6t8603VG"
      },
      "outputs": [],
      "source": [
        "iris ['Species'].value_counts()\n",
        "iris.describe()"
      ]
    },
    {
      "cell_type": "code",
      "execution_count": null,
      "metadata": {
        "id": "ElxMwtQv1GJN"
      },
      "outputs": [],
      "source": [
        "sns.FacetGrid(iris, hue=\"Species\",height=6).map(plt.scatter,\"Petal_Length\",\"Sepal_Width\").add_legend()\n"
      ]
    },
    {
      "cell_type": "code",
      "execution_count": null,
      "metadata": {
        "id": "Ann9P-sm1TZM"
      },
      "outputs": [],
      "source": [
        "sns.pairplot(iris[['Sepal_Length','Sepal_Width','Petal_Length','Petal_Width','Species']], hue=\"Species\",diag_kind='kde')"
      ]
    },
    {
      "cell_type": "code",
      "execution_count": null,
      "metadata": {
        "id": "xgzxBbBD1YkC"
      },
      "outputs": [],
      "source": [
        "data=iris.values\n",
        "X=data[:,0:4]\n",
        "Y=data[:,5]\n"
      ]
    },
    {
      "cell_type": "code",
      "execution_count": null,
      "metadata": {
        "id": "t7UkPp_I1-m9"
      },
      "outputs": [],
      "source": [
        "print(X.shape)\n",
        "print(X)"
      ]
    },
    {
      "cell_type": "code",
      "execution_count": null,
      "metadata": {
        "id": "VLlEemAN2DY2"
      },
      "outputs": [],
      "source": [
        "print(Y.shape)\n",
        "print(Y)"
      ]
    },
    {
      "cell_type": "code",
      "execution_count": null,
      "metadata": {
        "id": "mpuvu2Ch2R8h"
      },
      "outputs": [],
      "source": [
        "from sklearn.model_selection import train_test_split\n",
        "X_train, X_test, y_train, y_test= train_test_split(X,Y, test_size=0.2)"
      ]
    },
    {
      "cell_type": "code",
      "execution_count": null,
      "metadata": {
        "id": "BA7N0JNr2YmZ"
      },
      "outputs": [],
      "source": [
        "print(X_train.shape)\n",
        "print(X_train)"
      ]
    },
    {
      "cell_type": "code",
      "execution_count": null,
      "metadata": {
        "id": "LY49XBkr2cXP"
      },
      "outputs": [],
      "source": [
        "print(y_test.shape)\n",
        "print(y_test)\n"
      ]
    },
    {
      "cell_type": "code",
      "execution_count": null,
      "metadata": {
        "id": "zZtb6j4i2f4R"
      },
      "outputs": [],
      "source": [
        "print(X_test.shape)\n",
        "print(X_test)"
      ]
    },
    {
      "cell_type": "code",
      "execution_count": null,
      "metadata": {
        "id": "j1fic5MX2i-R"
      },
      "outputs": [],
      "source": [
        "print(y_train.shape)\n",
        "print(y_train)"
      ]
    },
    {
      "cell_type": "code",
      "execution_count": null,
      "metadata": {
        "id": "WR1j2JNl2l0-"
      },
      "outputs": [],
      "source": [
        "from sklearn.svm import SVC\n",
        "\n",
        "model_svc=SVC()\n",
        "model_svc.fit(X_train,y_train)"
      ]
    },
    {
      "cell_type": "code",
      "execution_count": null,
      "metadata": {
        "id": "rcHKHy0k21T1"
      },
      "outputs": [],
      "source": [
        "prediction1 = model_svc.predict(X_test)\n",
        "\n",
        "\n",
        "from sklearn.metrics import accuracy_score\n",
        "print(accuracy_score(y_test, prediction1))"
      ]
    },
    {
      "cell_type": "code",
      "execution_count": null,
      "metadata": {
        "id": "JSkoWAF926Ps"
      },
      "outputs": [],
      "source": [
        "flower_mapping = {'Iris-setosa':0,'Iris-versicolor':1,'Iris-virginica':2}\n",
        "iris['Species']=iris['Species'].map(flower_mapping)"
      ]
    },
    {
      "cell_type": "code",
      "execution_count": null,
      "metadata": {
        "id": "reQdFwh82-i2"
      },
      "outputs": [],
      "source": [
        "iris.head()\n",
        "\n",
        "\n"
      ]
    },
    {
      "cell_type": "code",
      "execution_count": null,
      "metadata": {
        "id": "Blelrr-Q3DR_"
      },
      "outputs": [],
      "source": [
        "\n",
        "iris.tail()"
      ]
    },
    {
      "cell_type": "code",
      "execution_count": null,
      "metadata": {
        "id": "FsZZaFJy3GzN"
      },
      "outputs": [],
      "source": [
        "X=iris [['Sepal_Length','Sepal_Width','Petal_Length','Petal_Width']].values\n",
        "y= iris[['Species']].values"
      ]
    },
    {
      "cell_type": "code",
      "execution_count": null,
      "metadata": {
        "id": "xK1uJl9e3J0W"
      },
      "outputs": [],
      "source": [
        "from sklearn.linear_model import LogisticRegression\n",
        "model= LogisticRegression()\n",
        "model.fit(X,y)"
      ]
    },
    {
      "cell_type": "code",
      "execution_count": null,
      "metadata": {
        "id": "jnrznzJG3MrJ"
      },
      "outputs": [],
      "source": [
        "model.score(X,y)"
      ]
    },
    {
      "cell_type": "code",
      "execution_count": null,
      "metadata": {
        "id": "7lfc79073R9l"
      },
      "outputs": [],
      "source": [
        "expected = y\n",
        "predicted = model.predict(X)\n",
        "predicted"
      ]
    },
    {
      "cell_type": "code",
      "execution_count": null,
      "metadata": {
        "id": "KKWHF6t23PFJ"
      },
      "outputs": [],
      "source": [
        "from sklearn import metrics"
      ]
    },
    {
      "cell_type": "code",
      "execution_count": null,
      "metadata": {
        "id": "jwZoONaK3W3W"
      },
      "outputs": [],
      "source": [
        "print(metrics.classification_report(expected, predicted))\n",
        "\n"
      ]
    },
    {
      "cell_type": "code",
      "execution_count": null,
      "metadata": {
        "id": "grEQoqqh3xxj"
      },
      "outputs": [],
      "source": [
        "from sklearn.tree import DecisionTreeClassifier\n",
        "model_DTC = DecisionTreeClassifier()\n",
        "model_DTC.fit(X_train, y_train)"
      ]
    },
    {
      "cell_type": "code",
      "execution_count": null,
      "metadata": {
        "id": "y4YqxhDG4Crs"
      },
      "outputs": [],
      "source": [
        "prediction3= model_svc.predict(X_test)\n",
        "\n",
        "\n",
        "from sklearn.metrics import accuracy_score\n",
        "print(accuracy_score(y_test, prediction3))"
      ]
    },
    {
      "cell_type": "code",
      "execution_count": null,
      "metadata": {
        "id": "QxEFMcCf4F_q"
      },
      "outputs": [],
      "source": [
        "\n",
        "\n",
        "X_new = np.array([[3, 2, 1, 0.2], [4.9, 2.2, 3.8, 1.1], [5.3, 2.5, 4.6, 1.9]])\n",
        "\n",
        "predicted_sizes = model.predict(X_new)\n",
        "\n",
        "\n",
        "print(predicted_sizes)\n"
      ]
    },
    {
      "cell_type": "code",
      "execution_count": null,
      "metadata": {
        "id": "4mehbFsX46Q5"
      },
      "outputs": [],
      "source": []
    }
  ],
  "metadata": {
    "colab": {
      "provenance": [],
      "include_colab_link": true
    },
    "kernelspec": {
      "display_name": "Python 3",
      "name": "python3"
    },
    "language_info": {
      "codemirror_mode": {
        "name": "ipython",
        "version": 3
      },
      "file_extension": ".py",
      "mimetype": "text/x-python",
      "name": "python",
      "nbconvert_exporter": "python",
      "pygments_lexer": "ipython3",
      "version": "3.12.5"
    }
  },
  "nbformat": 4,
  "nbformat_minor": 0
}